{
 "cells": [
  {
   "cell_type": "markdown",
   "id": "94c37fdc",
   "metadata": {},
   "source": [
    "# Alzheimers disease prediction"
   ]
  },
  {
   "cell_type": "code",
   "execution_count": 1,
   "id": "c76c13e2",
   "metadata": {},
   "outputs": [],
   "source": [
    "#importing libraries\n",
    "import pandas as pd\n",
    "import matplotlib.pyplot as plt\n",
    "import numpy as np\n",
    "import seaborn as sns\n",
    "import warnings\n",
    "warnings.filterwarnings(\"ignore\")"
   ]
  },
  {
   "cell_type": "code",
   "execution_count": 2,
   "id": "67a06049",
   "metadata": {},
   "outputs": [],
   "source": [
    "#importing dataset\n",
    "alz_data = pd.read_csv(\"oasis_longitudinal.csv\")"
   ]
  },
  {
   "cell_type": "code",
   "execution_count": 3,
   "id": "f4414027",
   "metadata": {},
   "outputs": [
    {
     "data": {
      "text/html": [
       "<div>\n",
       "<style scoped>\n",
       "    .dataframe tbody tr th:only-of-type {\n",
       "        vertical-align: middle;\n",
       "    }\n",
       "\n",
       "    .dataframe tbody tr th {\n",
       "        vertical-align: top;\n",
       "    }\n",
       "\n",
       "    .dataframe thead th {\n",
       "        text-align: right;\n",
       "    }\n",
       "</style>\n",
       "<table border=\"1\" class=\"dataframe\">\n",
       "  <thead>\n",
       "    <tr style=\"text-align: right;\">\n",
       "      <th></th>\n",
       "      <th>Subject ID</th>\n",
       "      <th>MRI ID</th>\n",
       "      <th>Group</th>\n",
       "      <th>Visit</th>\n",
       "      <th>MR Delay</th>\n",
       "      <th>M/F</th>\n",
       "      <th>Hand</th>\n",
       "      <th>Age</th>\n",
       "      <th>EDUC</th>\n",
       "      <th>SES</th>\n",
       "      <th>MMSE</th>\n",
       "      <th>CDR</th>\n",
       "      <th>eTIV</th>\n",
       "      <th>nWBV</th>\n",
       "      <th>ASF</th>\n",
       "    </tr>\n",
       "  </thead>\n",
       "  <tbody>\n",
       "    <tr>\n",
       "      <th>0</th>\n",
       "      <td>OAS2_0001</td>\n",
       "      <td>OAS2_0001_MR1</td>\n",
       "      <td>Nondemented</td>\n",
       "      <td>1</td>\n",
       "      <td>0</td>\n",
       "      <td>M</td>\n",
       "      <td>R</td>\n",
       "      <td>87</td>\n",
       "      <td>14</td>\n",
       "      <td>2.0</td>\n",
       "      <td>27.0</td>\n",
       "      <td>0.0</td>\n",
       "      <td>1987</td>\n",
       "      <td>0.696</td>\n",
       "      <td>0.883</td>\n",
       "    </tr>\n",
       "    <tr>\n",
       "      <th>1</th>\n",
       "      <td>OAS2_0001</td>\n",
       "      <td>OAS2_0001_MR2</td>\n",
       "      <td>Nondemented</td>\n",
       "      <td>2</td>\n",
       "      <td>457</td>\n",
       "      <td>M</td>\n",
       "      <td>R</td>\n",
       "      <td>88</td>\n",
       "      <td>14</td>\n",
       "      <td>2.0</td>\n",
       "      <td>30.0</td>\n",
       "      <td>0.0</td>\n",
       "      <td>2004</td>\n",
       "      <td>0.681</td>\n",
       "      <td>0.876</td>\n",
       "    </tr>\n",
       "    <tr>\n",
       "      <th>2</th>\n",
       "      <td>OAS2_0002</td>\n",
       "      <td>OAS2_0002_MR1</td>\n",
       "      <td>Demented</td>\n",
       "      <td>1</td>\n",
       "      <td>0</td>\n",
       "      <td>M</td>\n",
       "      <td>R</td>\n",
       "      <td>75</td>\n",
       "      <td>12</td>\n",
       "      <td>NaN</td>\n",
       "      <td>23.0</td>\n",
       "      <td>0.5</td>\n",
       "      <td>1678</td>\n",
       "      <td>0.736</td>\n",
       "      <td>1.046</td>\n",
       "    </tr>\n",
       "    <tr>\n",
       "      <th>3</th>\n",
       "      <td>OAS2_0002</td>\n",
       "      <td>OAS2_0002_MR2</td>\n",
       "      <td>Demented</td>\n",
       "      <td>2</td>\n",
       "      <td>560</td>\n",
       "      <td>M</td>\n",
       "      <td>R</td>\n",
       "      <td>76</td>\n",
       "      <td>12</td>\n",
       "      <td>NaN</td>\n",
       "      <td>28.0</td>\n",
       "      <td>0.5</td>\n",
       "      <td>1738</td>\n",
       "      <td>0.713</td>\n",
       "      <td>1.010</td>\n",
       "    </tr>\n",
       "    <tr>\n",
       "      <th>4</th>\n",
       "      <td>OAS2_0002</td>\n",
       "      <td>OAS2_0002_MR3</td>\n",
       "      <td>Demented</td>\n",
       "      <td>3</td>\n",
       "      <td>1895</td>\n",
       "      <td>M</td>\n",
       "      <td>R</td>\n",
       "      <td>80</td>\n",
       "      <td>12</td>\n",
       "      <td>NaN</td>\n",
       "      <td>22.0</td>\n",
       "      <td>0.5</td>\n",
       "      <td>1698</td>\n",
       "      <td>0.701</td>\n",
       "      <td>1.034</td>\n",
       "    </tr>\n",
       "    <tr>\n",
       "      <th>5</th>\n",
       "      <td>OAS2_0004</td>\n",
       "      <td>OAS2_0004_MR1</td>\n",
       "      <td>Nondemented</td>\n",
       "      <td>1</td>\n",
       "      <td>0</td>\n",
       "      <td>F</td>\n",
       "      <td>R</td>\n",
       "      <td>88</td>\n",
       "      <td>18</td>\n",
       "      <td>3.0</td>\n",
       "      <td>28.0</td>\n",
       "      <td>0.0</td>\n",
       "      <td>1215</td>\n",
       "      <td>0.710</td>\n",
       "      <td>1.444</td>\n",
       "    </tr>\n",
       "  </tbody>\n",
       "</table>\n",
       "</div>"
      ],
      "text/plain": [
       "  Subject ID         MRI ID        Group  Visit  MR Delay M/F Hand  Age  EDUC  \\\n",
       "0  OAS2_0001  OAS2_0001_MR1  Nondemented      1         0   M    R   87    14   \n",
       "1  OAS2_0001  OAS2_0001_MR2  Nondemented      2       457   M    R   88    14   \n",
       "2  OAS2_0002  OAS2_0002_MR1     Demented      1         0   M    R   75    12   \n",
       "3  OAS2_0002  OAS2_0002_MR2     Demented      2       560   M    R   76    12   \n",
       "4  OAS2_0002  OAS2_0002_MR3     Demented      3      1895   M    R   80    12   \n",
       "5  OAS2_0004  OAS2_0004_MR1  Nondemented      1         0   F    R   88    18   \n",
       "\n",
       "   SES  MMSE  CDR  eTIV   nWBV    ASF  \n",
       "0  2.0  27.0  0.0  1987  0.696  0.883  \n",
       "1  2.0  30.0  0.0  2004  0.681  0.876  \n",
       "2  NaN  23.0  0.5  1678  0.736  1.046  \n",
       "3  NaN  28.0  0.5  1738  0.713  1.010  \n",
       "4  NaN  22.0  0.5  1698  0.701  1.034  \n",
       "5  3.0  28.0  0.0  1215  0.710  1.444  "
      ]
     },
     "execution_count": 3,
     "metadata": {},
     "output_type": "execute_result"
    }
   ],
   "source": [
    "#show first and last 5 r0ws of the dataset\n",
    "#show shape of dataset\n",
    "\n",
    "alz_data.head(6)"
   ]
  },
  {
   "cell_type": "code",
   "execution_count": 5,
   "id": "c9da0d0a",
   "metadata": {},
   "outputs": [
    {
     "data": {
      "text/html": [
       "<div>\n",
       "<style scoped>\n",
       "    .dataframe tbody tr th:only-of-type {\n",
       "        vertical-align: middle;\n",
       "    }\n",
       "\n",
       "    .dataframe tbody tr th {\n",
       "        vertical-align: top;\n",
       "    }\n",
       "\n",
       "    .dataframe thead th {\n",
       "        text-align: right;\n",
       "    }\n",
       "</style>\n",
       "<table border=\"1\" class=\"dataframe\">\n",
       "  <thead>\n",
       "    <tr style=\"text-align: right;\">\n",
       "      <th></th>\n",
       "      <th>Subject ID</th>\n",
       "      <th>MRI ID</th>\n",
       "      <th>Group</th>\n",
       "      <th>Visit</th>\n",
       "      <th>MR Delay</th>\n",
       "      <th>M/F</th>\n",
       "      <th>Hand</th>\n",
       "      <th>Age</th>\n",
       "      <th>EDUC</th>\n",
       "      <th>SES</th>\n",
       "      <th>MMSE</th>\n",
       "      <th>CDR</th>\n",
       "      <th>eTIV</th>\n",
       "      <th>nWBV</th>\n",
       "      <th>ASF</th>\n",
       "    </tr>\n",
       "  </thead>\n",
       "  <tbody>\n",
       "    <tr>\n",
       "      <th>367</th>\n",
       "      <td>OAS2_0185</td>\n",
       "      <td>OAS2_0185_MR1</td>\n",
       "      <td>Demented</td>\n",
       "      <td>1</td>\n",
       "      <td>0</td>\n",
       "      <td>M</td>\n",
       "      <td>R</td>\n",
       "      <td>80</td>\n",
       "      <td>16</td>\n",
       "      <td>1.0</td>\n",
       "      <td>28.0</td>\n",
       "      <td>0.5</td>\n",
       "      <td>1704</td>\n",
       "      <td>0.711</td>\n",
       "      <td>1.030</td>\n",
       "    </tr>\n",
       "    <tr>\n",
       "      <th>368</th>\n",
       "      <td>OAS2_0185</td>\n",
       "      <td>OAS2_0185_MR2</td>\n",
       "      <td>Demented</td>\n",
       "      <td>2</td>\n",
       "      <td>842</td>\n",
       "      <td>M</td>\n",
       "      <td>R</td>\n",
       "      <td>82</td>\n",
       "      <td>16</td>\n",
       "      <td>1.0</td>\n",
       "      <td>28.0</td>\n",
       "      <td>0.5</td>\n",
       "      <td>1693</td>\n",
       "      <td>0.694</td>\n",
       "      <td>1.037</td>\n",
       "    </tr>\n",
       "    <tr>\n",
       "      <th>369</th>\n",
       "      <td>OAS2_0185</td>\n",
       "      <td>OAS2_0185_MR3</td>\n",
       "      <td>Demented</td>\n",
       "      <td>3</td>\n",
       "      <td>2297</td>\n",
       "      <td>M</td>\n",
       "      <td>R</td>\n",
       "      <td>86</td>\n",
       "      <td>16</td>\n",
       "      <td>1.0</td>\n",
       "      <td>26.0</td>\n",
       "      <td>0.5</td>\n",
       "      <td>1688</td>\n",
       "      <td>0.675</td>\n",
       "      <td>1.040</td>\n",
       "    </tr>\n",
       "    <tr>\n",
       "      <th>370</th>\n",
       "      <td>OAS2_0186</td>\n",
       "      <td>OAS2_0186_MR1</td>\n",
       "      <td>Nondemented</td>\n",
       "      <td>1</td>\n",
       "      <td>0</td>\n",
       "      <td>F</td>\n",
       "      <td>R</td>\n",
       "      <td>61</td>\n",
       "      <td>13</td>\n",
       "      <td>2.0</td>\n",
       "      <td>30.0</td>\n",
       "      <td>0.0</td>\n",
       "      <td>1319</td>\n",
       "      <td>0.801</td>\n",
       "      <td>1.331</td>\n",
       "    </tr>\n",
       "    <tr>\n",
       "      <th>371</th>\n",
       "      <td>OAS2_0186</td>\n",
       "      <td>OAS2_0186_MR2</td>\n",
       "      <td>Nondemented</td>\n",
       "      <td>2</td>\n",
       "      <td>763</td>\n",
       "      <td>F</td>\n",
       "      <td>R</td>\n",
       "      <td>63</td>\n",
       "      <td>13</td>\n",
       "      <td>2.0</td>\n",
       "      <td>30.0</td>\n",
       "      <td>0.0</td>\n",
       "      <td>1327</td>\n",
       "      <td>0.796</td>\n",
       "      <td>1.323</td>\n",
       "    </tr>\n",
       "    <tr>\n",
       "      <th>372</th>\n",
       "      <td>OAS2_0186</td>\n",
       "      <td>OAS2_0186_MR3</td>\n",
       "      <td>Nondemented</td>\n",
       "      <td>3</td>\n",
       "      <td>1608</td>\n",
       "      <td>F</td>\n",
       "      <td>R</td>\n",
       "      <td>65</td>\n",
       "      <td>13</td>\n",
       "      <td>2.0</td>\n",
       "      <td>30.0</td>\n",
       "      <td>0.0</td>\n",
       "      <td>1333</td>\n",
       "      <td>0.801</td>\n",
       "      <td>1.317</td>\n",
       "    </tr>\n",
       "  </tbody>\n",
       "</table>\n",
       "</div>"
      ],
      "text/plain": [
       "    Subject ID         MRI ID        Group  Visit  MR Delay M/F Hand  Age  \\\n",
       "367  OAS2_0185  OAS2_0185_MR1     Demented      1         0   M    R   80   \n",
       "368  OAS2_0185  OAS2_0185_MR2     Demented      2       842   M    R   82   \n",
       "369  OAS2_0185  OAS2_0185_MR3     Demented      3      2297   M    R   86   \n",
       "370  OAS2_0186  OAS2_0186_MR1  Nondemented      1         0   F    R   61   \n",
       "371  OAS2_0186  OAS2_0186_MR2  Nondemented      2       763   F    R   63   \n",
       "372  OAS2_0186  OAS2_0186_MR3  Nondemented      3      1608   F    R   65   \n",
       "\n",
       "     EDUC  SES  MMSE  CDR  eTIV   nWBV    ASF  \n",
       "367    16  1.0  28.0  0.5  1704  0.711  1.030  \n",
       "368    16  1.0  28.0  0.5  1693  0.694  1.037  \n",
       "369    16  1.0  26.0  0.5  1688  0.675  1.040  \n",
       "370    13  2.0  30.0  0.0  1319  0.801  1.331  \n",
       "371    13  2.0  30.0  0.0  1327  0.796  1.323  \n",
       "372    13  2.0  30.0  0.0  1333  0.801  1.317  "
      ]
     },
     "execution_count": 5,
     "metadata": {},
     "output_type": "execute_result"
    }
   ],
   "source": [
    "alz_data.tail(6)"
   ]
  },
  {
   "cell_type": "code",
   "execution_count": 6,
   "id": "713ea396",
   "metadata": {},
   "outputs": [
    {
     "data": {
      "text/html": [
       "<div>\n",
       "<style scoped>\n",
       "    .dataframe tbody tr th:only-of-type {\n",
       "        vertical-align: middle;\n",
       "    }\n",
       "\n",
       "    .dataframe tbody tr th {\n",
       "        vertical-align: top;\n",
       "    }\n",
       "\n",
       "    .dataframe thead th {\n",
       "        text-align: right;\n",
       "    }\n",
       "</style>\n",
       "<table border=\"1\" class=\"dataframe\">\n",
       "  <thead>\n",
       "    <tr style=\"text-align: right;\">\n",
       "      <th></th>\n",
       "      <th>Visit</th>\n",
       "      <th>MR Delay</th>\n",
       "      <th>Age</th>\n",
       "      <th>EDUC</th>\n",
       "      <th>SES</th>\n",
       "      <th>MMSE</th>\n",
       "      <th>CDR</th>\n",
       "      <th>eTIV</th>\n",
       "      <th>nWBV</th>\n",
       "      <th>ASF</th>\n",
       "    </tr>\n",
       "  </thead>\n",
       "  <tbody>\n",
       "    <tr>\n",
       "      <th>count</th>\n",
       "      <td>373.000000</td>\n",
       "      <td>373.000000</td>\n",
       "      <td>373.000000</td>\n",
       "      <td>373.000000</td>\n",
       "      <td>354.000000</td>\n",
       "      <td>371.000000</td>\n",
       "      <td>373.000000</td>\n",
       "      <td>373.000000</td>\n",
       "      <td>373.000000</td>\n",
       "      <td>373.000000</td>\n",
       "    </tr>\n",
       "    <tr>\n",
       "      <th>mean</th>\n",
       "      <td>1.882038</td>\n",
       "      <td>595.104558</td>\n",
       "      <td>77.013405</td>\n",
       "      <td>14.597855</td>\n",
       "      <td>2.460452</td>\n",
       "      <td>27.342318</td>\n",
       "      <td>0.290885</td>\n",
       "      <td>1488.128686</td>\n",
       "      <td>0.729568</td>\n",
       "      <td>1.195461</td>\n",
       "    </tr>\n",
       "    <tr>\n",
       "      <th>std</th>\n",
       "      <td>0.922843</td>\n",
       "      <td>635.485118</td>\n",
       "      <td>7.640957</td>\n",
       "      <td>2.876339</td>\n",
       "      <td>1.134005</td>\n",
       "      <td>3.683244</td>\n",
       "      <td>0.374557</td>\n",
       "      <td>176.139286</td>\n",
       "      <td>0.037135</td>\n",
       "      <td>0.138092</td>\n",
       "    </tr>\n",
       "    <tr>\n",
       "      <th>min</th>\n",
       "      <td>1.000000</td>\n",
       "      <td>0.000000</td>\n",
       "      <td>60.000000</td>\n",
       "      <td>6.000000</td>\n",
       "      <td>1.000000</td>\n",
       "      <td>4.000000</td>\n",
       "      <td>0.000000</td>\n",
       "      <td>1106.000000</td>\n",
       "      <td>0.644000</td>\n",
       "      <td>0.876000</td>\n",
       "    </tr>\n",
       "    <tr>\n",
       "      <th>25%</th>\n",
       "      <td>1.000000</td>\n",
       "      <td>0.000000</td>\n",
       "      <td>71.000000</td>\n",
       "      <td>12.000000</td>\n",
       "      <td>2.000000</td>\n",
       "      <td>27.000000</td>\n",
       "      <td>0.000000</td>\n",
       "      <td>1357.000000</td>\n",
       "      <td>0.700000</td>\n",
       "      <td>1.099000</td>\n",
       "    </tr>\n",
       "    <tr>\n",
       "      <th>50%</th>\n",
       "      <td>2.000000</td>\n",
       "      <td>552.000000</td>\n",
       "      <td>77.000000</td>\n",
       "      <td>15.000000</td>\n",
       "      <td>2.000000</td>\n",
       "      <td>29.000000</td>\n",
       "      <td>0.000000</td>\n",
       "      <td>1470.000000</td>\n",
       "      <td>0.729000</td>\n",
       "      <td>1.194000</td>\n",
       "    </tr>\n",
       "    <tr>\n",
       "      <th>75%</th>\n",
       "      <td>2.000000</td>\n",
       "      <td>873.000000</td>\n",
       "      <td>82.000000</td>\n",
       "      <td>16.000000</td>\n",
       "      <td>3.000000</td>\n",
       "      <td>30.000000</td>\n",
       "      <td>0.500000</td>\n",
       "      <td>1597.000000</td>\n",
       "      <td>0.756000</td>\n",
       "      <td>1.293000</td>\n",
       "    </tr>\n",
       "    <tr>\n",
       "      <th>max</th>\n",
       "      <td>5.000000</td>\n",
       "      <td>2639.000000</td>\n",
       "      <td>98.000000</td>\n",
       "      <td>23.000000</td>\n",
       "      <td>5.000000</td>\n",
       "      <td>30.000000</td>\n",
       "      <td>2.000000</td>\n",
       "      <td>2004.000000</td>\n",
       "      <td>0.837000</td>\n",
       "      <td>1.587000</td>\n",
       "    </tr>\n",
       "  </tbody>\n",
       "</table>\n",
       "</div>"
      ],
      "text/plain": [
       "            Visit     MR Delay         Age        EDUC         SES  \\\n",
       "count  373.000000   373.000000  373.000000  373.000000  354.000000   \n",
       "mean     1.882038   595.104558   77.013405   14.597855    2.460452   \n",
       "std      0.922843   635.485118    7.640957    2.876339    1.134005   \n",
       "min      1.000000     0.000000   60.000000    6.000000    1.000000   \n",
       "25%      1.000000     0.000000   71.000000   12.000000    2.000000   \n",
       "50%      2.000000   552.000000   77.000000   15.000000    2.000000   \n",
       "75%      2.000000   873.000000   82.000000   16.000000    3.000000   \n",
       "max      5.000000  2639.000000   98.000000   23.000000    5.000000   \n",
       "\n",
       "             MMSE         CDR         eTIV        nWBV         ASF  \n",
       "count  371.000000  373.000000   373.000000  373.000000  373.000000  \n",
       "mean    27.342318    0.290885  1488.128686    0.729568    1.195461  \n",
       "std      3.683244    0.374557   176.139286    0.037135    0.138092  \n",
       "min      4.000000    0.000000  1106.000000    0.644000    0.876000  \n",
       "25%     27.000000    0.000000  1357.000000    0.700000    1.099000  \n",
       "50%     29.000000    0.000000  1470.000000    0.729000    1.194000  \n",
       "75%     30.000000    0.500000  1597.000000    0.756000    1.293000  \n",
       "max     30.000000    2.000000  2004.000000    0.837000    1.587000  "
      ]
     },
     "execution_count": 6,
     "metadata": {},
     "output_type": "execute_result"
    }
   ],
   "source": [
    "alz_data.describe()"
   ]
  },
  {
   "cell_type": "code",
   "execution_count": 7,
   "id": "621cd70a",
   "metadata": {},
   "outputs": [
    {
     "data": {
      "text/plain": [
       "(373, 15)"
      ]
     },
     "execution_count": 7,
     "metadata": {},
     "output_type": "execute_result"
    }
   ],
   "source": [
    "alz_data.shape"
   ]
  },
  {
   "cell_type": "code",
   "execution_count": 8,
   "id": "1787dbf1",
   "metadata": {},
   "outputs": [
    {
     "data": {
      "text/plain": [
       "<bound method DataFrame.info of     Subject ID         MRI ID        Group  Visit  MR Delay M/F Hand  Age  \\\n",
       "0    OAS2_0001  OAS2_0001_MR1  Nondemented      1         0   M    R   87   \n",
       "1    OAS2_0001  OAS2_0001_MR2  Nondemented      2       457   M    R   88   \n",
       "2    OAS2_0002  OAS2_0002_MR1     Demented      1         0   M    R   75   \n",
       "3    OAS2_0002  OAS2_0002_MR2     Demented      2       560   M    R   76   \n",
       "4    OAS2_0002  OAS2_0002_MR3     Demented      3      1895   M    R   80   \n",
       "..         ...            ...          ...    ...       ...  ..  ...  ...   \n",
       "368  OAS2_0185  OAS2_0185_MR2     Demented      2       842   M    R   82   \n",
       "369  OAS2_0185  OAS2_0185_MR3     Demented      3      2297   M    R   86   \n",
       "370  OAS2_0186  OAS2_0186_MR1  Nondemented      1         0   F    R   61   \n",
       "371  OAS2_0186  OAS2_0186_MR2  Nondemented      2       763   F    R   63   \n",
       "372  OAS2_0186  OAS2_0186_MR3  Nondemented      3      1608   F    R   65   \n",
       "\n",
       "     EDUC  SES  MMSE  CDR  eTIV   nWBV    ASF  \n",
       "0      14  2.0  27.0  0.0  1987  0.696  0.883  \n",
       "1      14  2.0  30.0  0.0  2004  0.681  0.876  \n",
       "2      12  NaN  23.0  0.5  1678  0.736  1.046  \n",
       "3      12  NaN  28.0  0.5  1738  0.713  1.010  \n",
       "4      12  NaN  22.0  0.5  1698  0.701  1.034  \n",
       "..    ...  ...   ...  ...   ...    ...    ...  \n",
       "368    16  1.0  28.0  0.5  1693  0.694  1.037  \n",
       "369    16  1.0  26.0  0.5  1688  0.675  1.040  \n",
       "370    13  2.0  30.0  0.0  1319  0.801  1.331  \n",
       "371    13  2.0  30.0  0.0  1327  0.796  1.323  \n",
       "372    13  2.0  30.0  0.0  1333  0.801  1.317  \n",
       "\n",
       "[373 rows x 15 columns]>"
      ]
     },
     "execution_count": 8,
     "metadata": {},
     "output_type": "execute_result"
    }
   ],
   "source": [
    "alz_data.info"
   ]
  },
  {
   "cell_type": "code",
   "execution_count": 9,
   "id": "dac8ed8d",
   "metadata": {},
   "outputs": [
    {
     "data": {
      "text/plain": [
       "Subject ID     0\n",
       "MRI ID         0\n",
       "Group          0\n",
       "Visit          0\n",
       "MR Delay       0\n",
       "M/F            0\n",
       "Hand           0\n",
       "Age            0\n",
       "EDUC           0\n",
       "SES           19\n",
       "MMSE           2\n",
       "CDR            0\n",
       "eTIV           0\n",
       "nWBV           0\n",
       "ASF            0\n",
       "dtype: int64"
      ]
     },
     "execution_count": 9,
     "metadata": {},
     "output_type": "execute_result"
    }
   ],
   "source": [
    "#to check for sum of null values in the dataset\n",
    "alz_data.isna().sum()"
   ]
  },
  {
   "cell_type": "code",
   "execution_count": 10,
   "id": "49d85d2e",
   "metadata": {},
   "outputs": [
    {
     "data": {
      "text/plain": [
       "Index(['Subject ID', 'MRI ID', 'Group', 'Visit', 'MR Delay', 'M/F', 'Hand',\n",
       "       'Age', 'EDUC', 'SES', 'MMSE', 'CDR', 'eTIV', 'nWBV', 'ASF'],\n",
       "      dtype='object')"
      ]
     },
     "execution_count": 10,
     "metadata": {},
     "output_type": "execute_result"
    }
   ],
   "source": [
    "alz_data.columns"
   ]
  },
  {
   "cell_type": "code",
   "execution_count": 11,
   "id": "1755c460",
   "metadata": {},
   "outputs": [
    {
     "data": {
      "text/html": [
       "<div>\n",
       "<style scoped>\n",
       "    .dataframe tbody tr th:only-of-type {\n",
       "        vertical-align: middle;\n",
       "    }\n",
       "\n",
       "    .dataframe tbody tr th {\n",
       "        vertical-align: top;\n",
       "    }\n",
       "\n",
       "    .dataframe thead th {\n",
       "        text-align: right;\n",
       "    }\n",
       "</style>\n",
       "<table border=\"1\" class=\"dataframe\">\n",
       "  <thead>\n",
       "    <tr style=\"text-align: right;\">\n",
       "      <th></th>\n",
       "      <th>Subject ID</th>\n",
       "      <th>MRI ID</th>\n",
       "      <th>Group</th>\n",
       "      <th>M/F</th>\n",
       "      <th>Hand</th>\n",
       "    </tr>\n",
       "  </thead>\n",
       "  <tbody>\n",
       "    <tr>\n",
       "      <th>count</th>\n",
       "      <td>373</td>\n",
       "      <td>373</td>\n",
       "      <td>373</td>\n",
       "      <td>373</td>\n",
       "      <td>373</td>\n",
       "    </tr>\n",
       "    <tr>\n",
       "      <th>unique</th>\n",
       "      <td>150</td>\n",
       "      <td>373</td>\n",
       "      <td>3</td>\n",
       "      <td>2</td>\n",
       "      <td>1</td>\n",
       "    </tr>\n",
       "    <tr>\n",
       "      <th>top</th>\n",
       "      <td>OAS2_0070</td>\n",
       "      <td>OAS2_0001_MR1</td>\n",
       "      <td>Nondemented</td>\n",
       "      <td>F</td>\n",
       "      <td>R</td>\n",
       "    </tr>\n",
       "    <tr>\n",
       "      <th>freq</th>\n",
       "      <td>5</td>\n",
       "      <td>1</td>\n",
       "      <td>190</td>\n",
       "      <td>213</td>\n",
       "      <td>373</td>\n",
       "    </tr>\n",
       "  </tbody>\n",
       "</table>\n",
       "</div>"
      ],
      "text/plain": [
       "       Subject ID         MRI ID        Group  M/F Hand\n",
       "count         373            373          373  373  373\n",
       "unique        150            373            3    2    1\n",
       "top     OAS2_0070  OAS2_0001_MR1  Nondemented    F    R\n",
       "freq            5              1          190  213  373"
      ]
     },
     "execution_count": 11,
     "metadata": {},
     "output_type": "execute_result"
    }
   ],
   "source": [
    "alz_data.describe(include='object')"
   ]
  },
  {
   "cell_type": "code",
   "execution_count": 11,
   "id": "408bae32",
   "metadata": {},
   "outputs": [],
   "source": [
    "#convert to string values in dataset to numeric values\n",
    "alz_data['M/F'] = alz_data['M/F'].replace(['F','M'],[0,1])\n",
    "alz_data['Group'] =alz_data['Group'].replace(['Demented','Nondemented',\"Converted\"],[0,1,2])\n",
    "\n"
   ]
  },
  {
   "cell_type": "code",
   "execution_count": 12,
   "id": "39caaae5",
   "metadata": {},
   "outputs": [
    {
     "data": {
      "text/html": [
       "<div>\n",
       "<style scoped>\n",
       "    .dataframe tbody tr th:only-of-type {\n",
       "        vertical-align: middle;\n",
       "    }\n",
       "\n",
       "    .dataframe tbody tr th {\n",
       "        vertical-align: top;\n",
       "    }\n",
       "\n",
       "    .dataframe thead th {\n",
       "        text-align: right;\n",
       "    }\n",
       "</style>\n",
       "<table border=\"1\" class=\"dataframe\">\n",
       "  <thead>\n",
       "    <tr style=\"text-align: right;\">\n",
       "      <th></th>\n",
       "      <th>Subject ID</th>\n",
       "      <th>MRI ID</th>\n",
       "      <th>Group</th>\n",
       "      <th>Visit</th>\n",
       "      <th>MR Delay</th>\n",
       "      <th>M/F</th>\n",
       "      <th>Hand</th>\n",
       "      <th>Age</th>\n",
       "      <th>EDUC</th>\n",
       "      <th>SES</th>\n",
       "      <th>MMSE</th>\n",
       "      <th>CDR</th>\n",
       "      <th>eTIV</th>\n",
       "      <th>nWBV</th>\n",
       "      <th>ASF</th>\n",
       "    </tr>\n",
       "  </thead>\n",
       "  <tbody>\n",
       "    <tr>\n",
       "      <th>0</th>\n",
       "      <td>OAS2_0001</td>\n",
       "      <td>OAS2_0001_MR1</td>\n",
       "      <td>1</td>\n",
       "      <td>1</td>\n",
       "      <td>0</td>\n",
       "      <td>1</td>\n",
       "      <td>R</td>\n",
       "      <td>87</td>\n",
       "      <td>14</td>\n",
       "      <td>2.0</td>\n",
       "      <td>27.0</td>\n",
       "      <td>0.0</td>\n",
       "      <td>1987</td>\n",
       "      <td>0.696</td>\n",
       "      <td>0.883</td>\n",
       "    </tr>\n",
       "    <tr>\n",
       "      <th>1</th>\n",
       "      <td>OAS2_0001</td>\n",
       "      <td>OAS2_0001_MR2</td>\n",
       "      <td>1</td>\n",
       "      <td>2</td>\n",
       "      <td>457</td>\n",
       "      <td>1</td>\n",
       "      <td>R</td>\n",
       "      <td>88</td>\n",
       "      <td>14</td>\n",
       "      <td>2.0</td>\n",
       "      <td>30.0</td>\n",
       "      <td>0.0</td>\n",
       "      <td>2004</td>\n",
       "      <td>0.681</td>\n",
       "      <td>0.876</td>\n",
       "    </tr>\n",
       "    <tr>\n",
       "      <th>2</th>\n",
       "      <td>OAS2_0002</td>\n",
       "      <td>OAS2_0002_MR1</td>\n",
       "      <td>0</td>\n",
       "      <td>1</td>\n",
       "      <td>0</td>\n",
       "      <td>1</td>\n",
       "      <td>R</td>\n",
       "      <td>75</td>\n",
       "      <td>12</td>\n",
       "      <td>NaN</td>\n",
       "      <td>23.0</td>\n",
       "      <td>0.5</td>\n",
       "      <td>1678</td>\n",
       "      <td>0.736</td>\n",
       "      <td>1.046</td>\n",
       "    </tr>\n",
       "    <tr>\n",
       "      <th>3</th>\n",
       "      <td>OAS2_0002</td>\n",
       "      <td>OAS2_0002_MR2</td>\n",
       "      <td>0</td>\n",
       "      <td>2</td>\n",
       "      <td>560</td>\n",
       "      <td>1</td>\n",
       "      <td>R</td>\n",
       "      <td>76</td>\n",
       "      <td>12</td>\n",
       "      <td>NaN</td>\n",
       "      <td>28.0</td>\n",
       "      <td>0.5</td>\n",
       "      <td>1738</td>\n",
       "      <td>0.713</td>\n",
       "      <td>1.010</td>\n",
       "    </tr>\n",
       "    <tr>\n",
       "      <th>4</th>\n",
       "      <td>OAS2_0002</td>\n",
       "      <td>OAS2_0002_MR3</td>\n",
       "      <td>0</td>\n",
       "      <td>3</td>\n",
       "      <td>1895</td>\n",
       "      <td>1</td>\n",
       "      <td>R</td>\n",
       "      <td>80</td>\n",
       "      <td>12</td>\n",
       "      <td>NaN</td>\n",
       "      <td>22.0</td>\n",
       "      <td>0.5</td>\n",
       "      <td>1698</td>\n",
       "      <td>0.701</td>\n",
       "      <td>1.034</td>\n",
       "    </tr>\n",
       "    <tr>\n",
       "      <th>...</th>\n",
       "      <td>...</td>\n",
       "      <td>...</td>\n",
       "      <td>...</td>\n",
       "      <td>...</td>\n",
       "      <td>...</td>\n",
       "      <td>...</td>\n",
       "      <td>...</td>\n",
       "      <td>...</td>\n",
       "      <td>...</td>\n",
       "      <td>...</td>\n",
       "      <td>...</td>\n",
       "      <td>...</td>\n",
       "      <td>...</td>\n",
       "      <td>...</td>\n",
       "      <td>...</td>\n",
       "    </tr>\n",
       "    <tr>\n",
       "      <th>368</th>\n",
       "      <td>OAS2_0185</td>\n",
       "      <td>OAS2_0185_MR2</td>\n",
       "      <td>0</td>\n",
       "      <td>2</td>\n",
       "      <td>842</td>\n",
       "      <td>1</td>\n",
       "      <td>R</td>\n",
       "      <td>82</td>\n",
       "      <td>16</td>\n",
       "      <td>1.0</td>\n",
       "      <td>28.0</td>\n",
       "      <td>0.5</td>\n",
       "      <td>1693</td>\n",
       "      <td>0.694</td>\n",
       "      <td>1.037</td>\n",
       "    </tr>\n",
       "    <tr>\n",
       "      <th>369</th>\n",
       "      <td>OAS2_0185</td>\n",
       "      <td>OAS2_0185_MR3</td>\n",
       "      <td>0</td>\n",
       "      <td>3</td>\n",
       "      <td>2297</td>\n",
       "      <td>1</td>\n",
       "      <td>R</td>\n",
       "      <td>86</td>\n",
       "      <td>16</td>\n",
       "      <td>1.0</td>\n",
       "      <td>26.0</td>\n",
       "      <td>0.5</td>\n",
       "      <td>1688</td>\n",
       "      <td>0.675</td>\n",
       "      <td>1.040</td>\n",
       "    </tr>\n",
       "    <tr>\n",
       "      <th>370</th>\n",
       "      <td>OAS2_0186</td>\n",
       "      <td>OAS2_0186_MR1</td>\n",
       "      <td>1</td>\n",
       "      <td>1</td>\n",
       "      <td>0</td>\n",
       "      <td>0</td>\n",
       "      <td>R</td>\n",
       "      <td>61</td>\n",
       "      <td>13</td>\n",
       "      <td>2.0</td>\n",
       "      <td>30.0</td>\n",
       "      <td>0.0</td>\n",
       "      <td>1319</td>\n",
       "      <td>0.801</td>\n",
       "      <td>1.331</td>\n",
       "    </tr>\n",
       "    <tr>\n",
       "      <th>371</th>\n",
       "      <td>OAS2_0186</td>\n",
       "      <td>OAS2_0186_MR2</td>\n",
       "      <td>1</td>\n",
       "      <td>2</td>\n",
       "      <td>763</td>\n",
       "      <td>0</td>\n",
       "      <td>R</td>\n",
       "      <td>63</td>\n",
       "      <td>13</td>\n",
       "      <td>2.0</td>\n",
       "      <td>30.0</td>\n",
       "      <td>0.0</td>\n",
       "      <td>1327</td>\n",
       "      <td>0.796</td>\n",
       "      <td>1.323</td>\n",
       "    </tr>\n",
       "    <tr>\n",
       "      <th>372</th>\n",
       "      <td>OAS2_0186</td>\n",
       "      <td>OAS2_0186_MR3</td>\n",
       "      <td>1</td>\n",
       "      <td>3</td>\n",
       "      <td>1608</td>\n",
       "      <td>0</td>\n",
       "      <td>R</td>\n",
       "      <td>65</td>\n",
       "      <td>13</td>\n",
       "      <td>2.0</td>\n",
       "      <td>30.0</td>\n",
       "      <td>0.0</td>\n",
       "      <td>1333</td>\n",
       "      <td>0.801</td>\n",
       "      <td>1.317</td>\n",
       "    </tr>\n",
       "  </tbody>\n",
       "</table>\n",
       "<p>373 rows × 15 columns</p>\n",
       "</div>"
      ],
      "text/plain": [
       "    Subject ID         MRI ID  Group  Visit  MR Delay  M/F Hand  Age  EDUC  \\\n",
       "0    OAS2_0001  OAS2_0001_MR1      1      1         0    1    R   87    14   \n",
       "1    OAS2_0001  OAS2_0001_MR2      1      2       457    1    R   88    14   \n",
       "2    OAS2_0002  OAS2_0002_MR1      0      1         0    1    R   75    12   \n",
       "3    OAS2_0002  OAS2_0002_MR2      0      2       560    1    R   76    12   \n",
       "4    OAS2_0002  OAS2_0002_MR3      0      3      1895    1    R   80    12   \n",
       "..         ...            ...    ...    ...       ...  ...  ...  ...   ...   \n",
       "368  OAS2_0185  OAS2_0185_MR2      0      2       842    1    R   82    16   \n",
       "369  OAS2_0185  OAS2_0185_MR3      0      3      2297    1    R   86    16   \n",
       "370  OAS2_0186  OAS2_0186_MR1      1      1         0    0    R   61    13   \n",
       "371  OAS2_0186  OAS2_0186_MR2      1      2       763    0    R   63    13   \n",
       "372  OAS2_0186  OAS2_0186_MR3      1      3      1608    0    R   65    13   \n",
       "\n",
       "     SES  MMSE  CDR  eTIV   nWBV    ASF  \n",
       "0    2.0  27.0  0.0  1987  0.696  0.883  \n",
       "1    2.0  30.0  0.0  2004  0.681  0.876  \n",
       "2    NaN  23.0  0.5  1678  0.736  1.046  \n",
       "3    NaN  28.0  0.5  1738  0.713  1.010  \n",
       "4    NaN  22.0  0.5  1698  0.701  1.034  \n",
       "..   ...   ...  ...   ...    ...    ...  \n",
       "368  1.0  28.0  0.5  1693  0.694  1.037  \n",
       "369  1.0  26.0  0.5  1688  0.675  1.040  \n",
       "370  2.0  30.0  0.0  1319  0.801  1.331  \n",
       "371  2.0  30.0  0.0  1327  0.796  1.323  \n",
       "372  2.0  30.0  0.0  1333  0.801  1.317  \n",
       "\n",
       "[373 rows x 15 columns]"
      ]
     },
     "execution_count": 12,
     "metadata": {},
     "output_type": "execute_result"
    }
   ],
   "source": [
    "alz_data"
   ]
  },
  {
   "cell_type": "code",
   "execution_count": 13,
   "id": "5b9e48f5",
   "metadata": {},
   "outputs": [
    {
     "data": {
      "image/png": "[encoded data removed]",
      "text/plain": [
       "<Figure size 1440x1440 with 2 Axes>"
      ]
     },
     "metadata": {
      "needs_background": "light"
     },
     "output_type": "display_data"
    }
   ],
   "source": [
    "#check for correlations of each features in the dataset\n",
    "corrmat = alz_data.corr()\n",
    "plt.figure(figsize=(20,20))\n",
    "alz_plot = sns.heatmap(corrmat,annot=True)\n"
   ]
  },
  {
   "cell_type": "code",
   "execution_count": 14,
   "id": "5b3b06ff",
   "metadata": {},
   "outputs": [
    {
     "data": {
      "text/html": [
       "<div>\n",
       "<style scoped>\n",
       "    .dataframe tbody tr th:only-of-type {\n",
       "        vertical-align: middle;\n",
       "    }\n",
       "\n",
       "    .dataframe tbody tr th {\n",
       "        vertical-align: top;\n",
       "    }\n",
       "\n",
       "    .dataframe thead th {\n",
       "        text-align: right;\n",
       "    }\n",
       "</style>\n",
       "<table border=\"1\" class=\"dataframe\">\n",
       "  <thead>\n",
       "    <tr style=\"text-align: right;\">\n",
       "      <th></th>\n",
       "      <th>Group</th>\n",
       "      <th>Visit</th>\n",
       "      <th>MR Delay</th>\n",
       "      <th>M/F</th>\n",
       "      <th>Age</th>\n",
       "      <th>EDUC</th>\n",
       "      <th>SES</th>\n",
       "      <th>MMSE</th>\n",
       "      <th>CDR</th>\n",
       "      <th>eTIV</th>\n",
       "      <th>nWBV</th>\n",
       "      <th>ASF</th>\n",
       "    </tr>\n",
       "  </thead>\n",
       "  <tbody>\n",
       "    <tr>\n",
       "      <th>Group</th>\n",
       "      <td>1.000000</td>\n",
       "      <td>0.124035</td>\n",
       "      <td>0.181517</td>\n",
       "      <td>-0.223323</td>\n",
       "      <td>0.116711</td>\n",
       "      <td>0.245096</td>\n",
       "      <td>-0.262975</td>\n",
       "      <td>0.525996</td>\n",
       "      <td>-0.639454</td>\n",
       "      <td>-0.017597</td>\n",
       "      <td>0.195440</td>\n",
       "      <td>0.012773</td>\n",
       "    </tr>\n",
       "    <tr>\n",
       "      <th>Visit</th>\n",
       "      <td>0.124035</td>\n",
       "      <td>1.000000</td>\n",
       "      <td>0.920009</td>\n",
       "      <td>0.069791</td>\n",
       "      <td>0.183213</td>\n",
       "      <td>0.024615</td>\n",
       "      <td>-0.051622</td>\n",
       "      <td>-0.029078</td>\n",
       "      <td>0.002325</td>\n",
       "      <td>0.117428</td>\n",
       "      <td>-0.126682</td>\n",
       "      <td>-0.120399</td>\n",
       "    </tr>\n",
       "    <tr>\n",
       "      <th>MR Delay</th>\n",
       "      <td>0.181517</td>\n",
       "      <td>0.920009</td>\n",
       "      <td>1.000000</td>\n",
       "      <td>0.048006</td>\n",
       "      <td>0.205357</td>\n",
       "      <td>0.051630</td>\n",
       "      <td>-0.030813</td>\n",
       "      <td>0.065844</td>\n",
       "      <td>-0.062915</td>\n",
       "      <td>0.119624</td>\n",
       "      <td>-0.105586</td>\n",
       "      <td>-0.123545</td>\n",
       "    </tr>\n",
       "    <tr>\n",
       "      <th>M/F</th>\n",
       "      <td>-0.223323</td>\n",
       "      <td>0.069791</td>\n",
       "      <td>0.048006</td>\n",
       "      <td>1.000000</td>\n",
       "      <td>-0.037726</td>\n",
       "      <td>0.089279</td>\n",
       "      <td>-0.045776</td>\n",
       "      <td>-0.166860</td>\n",
       "      <td>0.202140</td>\n",
       "      <td>0.572549</td>\n",
       "      <td>-0.249618</td>\n",
       "      <td>-0.561647</td>\n",
       "    </tr>\n",
       "    <tr>\n",
       "      <th>Age</th>\n",
       "      <td>0.116711</td>\n",
       "      <td>0.183213</td>\n",
       "      <td>0.205357</td>\n",
       "      <td>-0.037726</td>\n",
       "      <td>1.000000</td>\n",
       "      <td>-0.027886</td>\n",
       "      <td>-0.046857</td>\n",
       "      <td>0.055612</td>\n",
       "      <td>-0.026257</td>\n",
       "      <td>0.042348</td>\n",
       "      <td>-0.518359</td>\n",
       "      <td>-0.035067</td>\n",
       "    </tr>\n",
       "    <tr>\n",
       "      <th>EDUC</th>\n",
       "      <td>0.245096</td>\n",
       "      <td>0.024615</td>\n",
       "      <td>0.051630</td>\n",
       "      <td>0.089279</td>\n",
       "      <td>-0.027886</td>\n",
       "      <td>1.000000</td>\n",
       "      <td>-0.722647</td>\n",
       "      <td>0.194884</td>\n",
       "      <td>-0.153121</td>\n",
       "      <td>0.257015</td>\n",
       "      <td>-0.012200</td>\n",
       "      <td>-0.241752</td>\n",
       "    </tr>\n",
       "    <tr>\n",
       "      <th>SES</th>\n",
       "      <td>-0.262975</td>\n",
       "      <td>-0.051622</td>\n",
       "      <td>-0.030813</td>\n",
       "      <td>-0.045776</td>\n",
       "      <td>-0.046857</td>\n",
       "      <td>-0.722647</td>\n",
       "      <td>1.000000</td>\n",
       "      <td>-0.149219</td>\n",
       "      <td>0.076160</td>\n",
       "      <td>-0.261575</td>\n",
       "      <td>0.090095</td>\n",
       "      <td>0.255576</td>\n",
       "    </tr>\n",
       "    <tr>\n",
       "      <th>MMSE</th>\n",
       "      <td>0.525996</td>\n",
       "      <td>-0.029078</td>\n",
       "      <td>0.065844</td>\n",
       "      <td>-0.166860</td>\n",
       "      <td>0.055612</td>\n",
       "      <td>0.194884</td>\n",
       "      <td>-0.149219</td>\n",
       "      <td>1.000000</td>\n",
       "      <td>-0.686519</td>\n",
       "      <td>-0.032084</td>\n",
       "      <td>0.341912</td>\n",
       "      <td>0.040052</td>\n",
       "    </tr>\n",
       "    <tr>\n",
       "      <th>CDR</th>\n",
       "      <td>-0.639454</td>\n",
       "      <td>0.002325</td>\n",
       "      <td>-0.062915</td>\n",
       "      <td>0.202140</td>\n",
       "      <td>-0.026257</td>\n",
       "      <td>-0.153121</td>\n",
       "      <td>0.076160</td>\n",
       "      <td>-0.686519</td>\n",
       "      <td>1.000000</td>\n",
       "      <td>0.022819</td>\n",
       "      <td>-0.344819</td>\n",
       "      <td>-0.029340</td>\n",
       "    </tr>\n",
       "    <tr>\n",
       "      <th>eTIV</th>\n",
       "      <td>-0.017597</td>\n",
       "      <td>0.117428</td>\n",
       "      <td>0.119624</td>\n",
       "      <td>0.572549</td>\n",
       "      <td>0.042348</td>\n",
       "      <td>0.257015</td>\n",
       "      <td>-0.261575</td>\n",
       "      <td>-0.032084</td>\n",
       "      <td>0.022819</td>\n",
       "      <td>1.000000</td>\n",
       "      <td>-0.210122</td>\n",
       "      <td>-0.988877</td>\n",
       "    </tr>\n",
       "    <tr>\n",
       "      <th>nWBV</th>\n",
       "      <td>0.195440</td>\n",
       "      <td>-0.126682</td>\n",
       "      <td>-0.105586</td>\n",
       "      <td>-0.249618</td>\n",
       "      <td>-0.518359</td>\n",
       "      <td>-0.012200</td>\n",
       "      <td>0.090095</td>\n",
       "      <td>0.341912</td>\n",
       "      <td>-0.344819</td>\n",
       "      <td>-0.210122</td>\n",
       "      <td>1.000000</td>\n",
       "      <td>0.213476</td>\n",
       "    </tr>\n",
       "    <tr>\n",
       "      <th>ASF</th>\n",
       "      <td>0.012773</td>\n",
       "      <td>-0.120399</td>\n",
       "      <td>-0.123545</td>\n",
       "      <td>-0.561647</td>\n",
       "      <td>-0.035067</td>\n",
       "      <td>-0.241752</td>\n",
       "      <td>0.255576</td>\n",
       "      <td>0.040052</td>\n",
       "      <td>-0.029340</td>\n",
       "      <td>-0.988877</td>\n",
       "      <td>0.213476</td>\n",
       "      <td>1.000000</td>\n",
       "    </tr>\n",
       "  </tbody>\n",
       "</table>\n",
       "</div>"
      ],
      "text/plain": [
       "             Group     Visit  MR Delay       M/F       Age      EDUC  \\\n",
       "Group     1.000000  0.124035  0.181517 -0.223323  0.116711  0.245096   \n",
       "Visit     0.124035  1.000000  0.920009  0.069791  0.183213  0.024615   \n",
       "MR Delay  0.181517  0.920009  1.000000  0.048006  0.205357  0.051630   \n",
       "M/F      -0.223323  0.069791  0.048006  1.000000 -0.037726  0.089279   \n",
       "Age       0.116711  0.183213  0.205357 -0.037726  1.000000 -0.027886   \n",
       "EDUC      0.245096  0.024615  0.051630  0.089279 -0.027886  1.000000   \n",
       "SES      -0.262975 -0.051622 -0.030813 -0.045776 -0.046857 -0.722647   \n",
       "MMSE      0.525996 -0.029078  0.065844 -0.166860  0.055612  0.194884   \n",
       "CDR      -0.639454  0.002325 -0.062915  0.202140 -0.026257 -0.153121   \n",
       "eTIV     -0.017597  0.117428  0.119624  0.572549  0.042348  0.257015   \n",
       "nWBV      0.195440 -0.126682 -0.105586 -0.249618 -0.518359 -0.012200   \n",
       "ASF       0.012773 -0.120399 -0.123545 -0.561647 -0.035067 -0.241752   \n",
       "\n",
       "               SES      MMSE       CDR      eTIV      nWBV       ASF  \n",
       "Group    -0.262975  0.525996 -0.639454 -0.017597  0.195440  0.012773  \n",
       "Visit    -0.051622 -0.029078  0.002325  0.117428 -0.126682 -0.120399  \n",
       "MR Delay -0.030813  0.065844 -0.062915  0.119624 -0.105586 -0.123545  \n",
       "M/F      -0.045776 -0.166860  0.202140  0.572549 -0.249618 -0.561647  \n",
       "Age      -0.046857  0.055612 -0.026257  0.042348 -0.518359 -0.035067  \n",
       "EDUC     -0.722647  0.194884 -0.153121  0.257015 -0.012200 -0.241752  \n",
       "SES       1.000000 -0.149219  0.076160 -0.261575  0.090095  0.255576  \n",
       "MMSE     -0.149219  1.000000 -0.686519 -0.032084  0.341912  0.040052  \n",
       "CDR       0.076160 -0.686519  1.000000  0.022819 -0.344819 -0.029340  \n",
       "eTIV     -0.261575 -0.032084  0.022819  1.000000 -0.210122 -0.988877  \n",
       "nWBV      0.090095  0.341912 -0.344819 -0.210122  1.000000  0.213476  \n",
       "ASF       0.255576  0.040052 -0.029340 -0.988877  0.213476  1.000000  "
      ]
     },
     "execution_count": 14,
     "metadata": {},
     "output_type": "execute_result"
    }
   ],
   "source": [
    "alz_data.corr()"
   ]
  },
  {
   "cell_type": "code",
   "execution_count": 15,
   "id": "bac36ab5",
   "metadata": {},
   "outputs": [
    {
     "data": {
      "text/plain": [
       "<AxesSubplot:xlabel='M/F', ylabel='count'>"
      ]
     },
     "execution_count": 15,
     "metadata": {},
     "output_type": "execute_result"
    },
    {
     "data": {
      "image/png": "[encoded data removed]",
      "text/plain": [
       "<Figure size 432x288 with 1 Axes>"
      ]
     },
     "metadata": {
      "needs_background": "light"
     },
     "output_type": "display_data"
    }
   ],
   "source": [
    "# lets compare the Group(Demented, Converted and Nondemented) of Alzheimer among sex(gender)\n",
    "# we will be using seaborn\n",
    "sns.countplot(alz_data['M/F'],hue=alz_data['Group'])"
   ]
  },
  {
   "cell_type": "markdown",
   "id": "3fce88cb",
   "metadata": {},
   "source": [
    "The graph shows that males has more records of dementia cases than females. \n",
    "The graph also indicates higher cases of Nondemented and converted cases in female subjects than the males."
   ]
  },
  {
   "cell_type": "code",
   "execution_count": null,
   "id": "340d6ee7",
   "metadata": {},
   "outputs": [],
   "source": [
    "Using a displot to further show the variation among in various the Group and Sex(Gender)"
   ]
  },
  {
   "cell_type": "code",
   "execution_count": 16,
   "id": "c53ccaec",
   "metadata": {},
   "outputs": [
    {
     "data": {
      "text/plain": [
       "<seaborn.axisgrid.FacetGrid at 0x7f4f3d584790>"
      ]
     },
     "execution_count": 16,
     "metadata": {},
     "output_type": "execute_result"
    },
    {
     "data": {
      "image/png": "[encoded data removed]",
      "text/plain": [
       "<Figure size 720x360 with 2 Axes>"
      ]
     },
     "metadata": {
      "needs_background": "light"
     },
     "output_type": "display_data"
    }
   ],
   "source": [
    "sns.displot(data=alz_data, x=\"Group\", col=\"M/F\", kde=True)"
   ]
  },
  {
   "cell_type": "markdown",
   "id": "489b2345",
   "metadata": {},
   "source": [
    "Using jointplot to joint distribution between nWBV(Normalize Whole Brain Volume)and Age, \n",
    "alongside the Groups(Nondemented, Demented and Converted)"
   ]
  },
  {
   "cell_type": "code",
   "execution_count": 17,
   "id": "39bc805f",
   "metadata": {},
   "outputs": [
    {
     "data": {
      "text/plain": [
       "<seaborn.axisgrid.JointGrid at 0x7f4f3d3e51c0>"
      ]
     },
     "execution_count": 17,
     "metadata": {},
     "output_type": "execute_result"
    },
    {
     "data": {
      "image/png": "[encoded data removed]",
      "text/plain": [
       "<Figure size 432x432 with 3 Axes>"
      ]
     },
     "metadata": {
      "needs_background": "light"
     },
     "output_type": "display_data"
    }
   ],
   "source": [
    "\n",
    "sns.jointplot(data=alz_data, x=\"Age\", y=\"nWBV\", hue=\"Group\")"
   ]
  },
  {
   "cell_type": "code",
   "execution_count": null,
   "id": "c41540c3",
   "metadata": {},
   "outputs": [],
   "source": [
    "from the chart, we could find more distribution of Nondemented among subjects with \n",
    "higher whole blood volume(nWBV) and of the younger age."
   ]
  },
  {
   "cell_type": "code",
   "execution_count": null,
   "id": "67d85ba1",
   "metadata": {},
   "outputs": [],
   "source": [
    "Using relplot to find joint distribution between CDR - Clinical Dementia Rating,\n",
    "MMSE - Mini Mental State Examination,SES - Socioeconomic Status and Age,\n",
    "alongside the Groups(1-Nondemented, 0-Demented and Converted)"
   ]
  },
  {
   "cell_type": "code",
   "execution_count": 18,
   "id": "ca42e693",
   "metadata": {},
   "outputs": [
    {
     "data": {
      "text/plain": [
       "<seaborn.axisgrid.FacetGrid at 0x7f4f3d58a5b0>"
      ]
     },
     "execution_count": 18,
     "metadata": {},
     "output_type": "execute_result"
    },
    {
     "data": {
      "image/png": "[encoded data removed]",
      "text/plain": [
       "<Figure size 1132x360 with 3 Axes>"
      ]
     },
     "metadata": {
      "needs_background": "light"
     },
     "output_type": "display_data"
    }
   ],
   "source": [
    "sns.relplot(\n",
    "    data=alz_data, x=\"Age\", y=\"MMSE\",\n",
    "    col=\"Group\", hue=\"CDR\", style=\"SES\",\n",
    "    kind=\"scatter\"\n",
    ")"
   ]
  },
  {
   "cell_type": "markdown",
   "id": "cb4054bc",
   "metadata": {},
   "source": [
    "###Correlation between CDR, Group and Age"
   ]
  },
  {
   "cell_type": "code",
   "execution_count": 19,
   "id": "255f5d7d",
   "metadata": {},
   "outputs": [
    {
     "data": {
      "text/plain": [
       "<AxesSubplot:xlabel='Age', ylabel='CDR'>"
      ]
     },
     "execution_count": 19,
     "metadata": {},
     "output_type": "execute_result"
    },
    {
     "data": {
      "image/png": "[encoded data removed]",
      "text/plain": [
       "<Figure size 432x288 with 1 Axes>"
      ]
     },
     "metadata": {
      "needs_background": "light"
     },
     "output_type": "display_data"
    }
   ],
   "source": [
    "sns.scatterplot(data=alz_data, x=\"Age\", y=\"CDR\", hue=\"Group\")"
   ]
  },
  {
   "cell_type": "code",
   "execution_count": null,
   "id": "9c2950e6",
   "metadata": {},
   "outputs": [],
   "source": []
  },
  {
   "cell_type": "code",
   "execution_count": 20,
   "id": "f0c7bc09",
   "metadata": {},
   "outputs": [
    {
     "data": {
      "text/plain": [
       "<seaborn.axisgrid.JointGrid at 0x7f4f3cf556a0>"
      ]
     },
     "execution_count": 20,
     "metadata": {},
     "output_type": "execute_result"
    },
    {
     "data": {
      "image/png": "[encoded data removed]",
      "text/plain": [
       "<Figure size 432x432 with 3 Axes>"
      ]
     },
     "metadata": {
      "needs_background": "light"
     },
     "output_type": "display_data"
    }
   ],
   "source": [
    "sns.jointplot(data=alz_data, x=\"Age\", y=\"SES\", hue=\"Group\")"
   ]
  },
  {
   "cell_type": "code",
   "execution_count": 23,
   "id": "b28f9762",
   "metadata": {},
   "outputs": [
    {
     "data": {
      "text/plain": [
       "<AxesSubplot:xlabel='Group', ylabel='MMSE'>"
      ]
     },
     "execution_count": 23,
     "metadata": {},
     "output_type": "execute_result"
    },
    {
     "data": {
      "image/png": "[encoded data removed]",
      "text/plain": [
       "<Figure size 432x288 with 1 Axes>"
      ]
     },
     "metadata": {
      "needs_background": "light"
     },
     "output_type": "display_data"
    }
   ],
   "source": [
    "sns.scatterplot(x=\"Group\", y=\"MMSE\", data=alz_data, hue=\"Age\", size='M/F')"
   ]
  },
  {
   "cell_type": "code",
   "execution_count": 24,
   "id": "88fbba64",
   "metadata": {},
   "outputs": [
    {
     "data": {
      "text/plain": [
       "<AxesSubplot:xlabel='Group', ylabel='Count'>"
      ]
     },
     "execution_count": 24,
     "metadata": {},
     "output_type": "execute_result"
    },
    {
     "data": {
      "image/png": "[encoded data removed]",
      "text/plain": [
       "<Figure size 432x288 with 1 Axes>"
      ]
     },
     "metadata": {
      "needs_background": "light"
     },
     "output_type": "display_data"
    }
   ],
   "source": [
    "sns.histplot(alz_data[\"Group\"], kde=True, bins=15)"
   ]
  },
  {
   "cell_type": "code",
   "execution_count": 25,
   "id": "f8f73b17",
   "metadata": {},
   "outputs": [
    {
     "data": {
      "text/html": [
       "<div>\n",
       "<style scoped>\n",
       "    .dataframe tbody tr th:only-of-type {\n",
       "        vertical-align: middle;\n",
       "    }\n",
       "\n",
       "    .dataframe tbody tr th {\n",
       "        vertical-align: top;\n",
       "    }\n",
       "\n",
       "    .dataframe thead th {\n",
       "        text-align: right;\n",
       "    }\n",
       "</style>\n",
       "<table border=\"1\" class=\"dataframe\">\n",
       "  <thead>\n",
       "    <tr style=\"text-align: right;\">\n",
       "      <th></th>\n",
       "      <th>Subject ID</th>\n",
       "      <th>MRI ID</th>\n",
       "      <th>Group</th>\n",
       "      <th>Visit</th>\n",
       "      <th>MR Delay</th>\n",
       "      <th>M/F</th>\n",
       "      <th>Hand</th>\n",
       "      <th>Age</th>\n",
       "      <th>EDUC</th>\n",
       "      <th>SES</th>\n",
       "      <th>MMSE</th>\n",
       "      <th>CDR</th>\n",
       "      <th>eTIV</th>\n",
       "      <th>nWBV</th>\n",
       "      <th>ASF</th>\n",
       "    </tr>\n",
       "  </thead>\n",
       "  <tbody>\n",
       "    <tr>\n",
       "      <th>0</th>\n",
       "      <td>OAS2_0001</td>\n",
       "      <td>OAS2_0001_MR1</td>\n",
       "      <td>1</td>\n",
       "      <td>1</td>\n",
       "      <td>0</td>\n",
       "      <td>1</td>\n",
       "      <td>R</td>\n",
       "      <td>87</td>\n",
       "      <td>14</td>\n",
       "      <td>2.0</td>\n",
       "      <td>27.0</td>\n",
       "      <td>0.0</td>\n",
       "      <td>1987</td>\n",
       "      <td>0.696</td>\n",
       "      <td>0.883</td>\n",
       "    </tr>\n",
       "    <tr>\n",
       "      <th>1</th>\n",
       "      <td>OAS2_0001</td>\n",
       "      <td>OAS2_0001_MR2</td>\n",
       "      <td>1</td>\n",
       "      <td>2</td>\n",
       "      <td>457</td>\n",
       "      <td>1</td>\n",
       "      <td>R</td>\n",
       "      <td>88</td>\n",
       "      <td>14</td>\n",
       "      <td>2.0</td>\n",
       "      <td>30.0</td>\n",
       "      <td>0.0</td>\n",
       "      <td>2004</td>\n",
       "      <td>0.681</td>\n",
       "      <td>0.876</td>\n",
       "    </tr>\n",
       "    <tr>\n",
       "      <th>2</th>\n",
       "      <td>OAS2_0002</td>\n",
       "      <td>OAS2_0002_MR1</td>\n",
       "      <td>0</td>\n",
       "      <td>1</td>\n",
       "      <td>0</td>\n",
       "      <td>1</td>\n",
       "      <td>R</td>\n",
       "      <td>75</td>\n",
       "      <td>12</td>\n",
       "      <td>NaN</td>\n",
       "      <td>23.0</td>\n",
       "      <td>0.5</td>\n",
       "      <td>1678</td>\n",
       "      <td>0.736</td>\n",
       "      <td>1.046</td>\n",
       "    </tr>\n",
       "    <tr>\n",
       "      <th>3</th>\n",
       "      <td>OAS2_0002</td>\n",
       "      <td>OAS2_0002_MR2</td>\n",
       "      <td>0</td>\n",
       "      <td>2</td>\n",
       "      <td>560</td>\n",
       "      <td>1</td>\n",
       "      <td>R</td>\n",
       "      <td>76</td>\n",
       "      <td>12</td>\n",
       "      <td>NaN</td>\n",
       "      <td>28.0</td>\n",
       "      <td>0.5</td>\n",
       "      <td>1738</td>\n",
       "      <td>0.713</td>\n",
       "      <td>1.010</td>\n",
       "    </tr>\n",
       "    <tr>\n",
       "      <th>4</th>\n",
       "      <td>OAS2_0002</td>\n",
       "      <td>OAS2_0002_MR3</td>\n",
       "      <td>0</td>\n",
       "      <td>3</td>\n",
       "      <td>1895</td>\n",
       "      <td>1</td>\n",
       "      <td>R</td>\n",
       "      <td>80</td>\n",
       "      <td>12</td>\n",
       "      <td>NaN</td>\n",
       "      <td>22.0</td>\n",
       "      <td>0.5</td>\n",
       "      <td>1698</td>\n",
       "      <td>0.701</td>\n",
       "      <td>1.034</td>\n",
       "    </tr>\n",
       "    <tr>\n",
       "      <th>...</th>\n",
       "      <td>...</td>\n",
       "      <td>...</td>\n",
       "      <td>...</td>\n",
       "      <td>...</td>\n",
       "      <td>...</td>\n",
       "      <td>...</td>\n",
       "      <td>...</td>\n",
       "      <td>...</td>\n",
       "      <td>...</td>\n",
       "      <td>...</td>\n",
       "      <td>...</td>\n",
       "      <td>...</td>\n",
       "      <td>...</td>\n",
       "      <td>...</td>\n",
       "      <td>...</td>\n",
       "    </tr>\n",
       "    <tr>\n",
       "      <th>368</th>\n",
       "      <td>OAS2_0185</td>\n",
       "      <td>OAS2_0185_MR2</td>\n",
       "      <td>0</td>\n",
       "      <td>2</td>\n",
       "      <td>842</td>\n",
       "      <td>1</td>\n",
       "      <td>R</td>\n",
       "      <td>82</td>\n",
       "      <td>16</td>\n",
       "      <td>1.0</td>\n",
       "      <td>28.0</td>\n",
       "      <td>0.5</td>\n",
       "      <td>1693</td>\n",
       "      <td>0.694</td>\n",
       "      <td>1.037</td>\n",
       "    </tr>\n",
       "    <tr>\n",
       "      <th>369</th>\n",
       "      <td>OAS2_0185</td>\n",
       "      <td>OAS2_0185_MR3</td>\n",
       "      <td>0</td>\n",
       "      <td>3</td>\n",
       "      <td>2297</td>\n",
       "      <td>1</td>\n",
       "      <td>R</td>\n",
       "      <td>86</td>\n",
       "      <td>16</td>\n",
       "      <td>1.0</td>\n",
       "      <td>26.0</td>\n",
       "      <td>0.5</td>\n",
       "      <td>1688</td>\n",
       "      <td>0.675</td>\n",
       "      <td>1.040</td>\n",
       "    </tr>\n",
       "    <tr>\n",
       "      <th>370</th>\n",
       "      <td>OAS2_0186</td>\n",
       "      <td>OAS2_0186_MR1</td>\n",
       "      <td>1</td>\n",
       "      <td>1</td>\n",
       "      <td>0</td>\n",
       "      <td>0</td>\n",
       "      <td>R</td>\n",
       "      <td>61</td>\n",
       "      <td>13</td>\n",
       "      <td>2.0</td>\n",
       "      <td>30.0</td>\n",
       "      <td>0.0</td>\n",
       "      <td>1319</td>\n",
       "      <td>0.801</td>\n",
       "      <td>1.331</td>\n",
       "    </tr>\n",
       "    <tr>\n",
       "      <th>371</th>\n",
       "      <td>OAS2_0186</td>\n",
       "      <td>OAS2_0186_MR2</td>\n",
       "      <td>1</td>\n",
       "      <td>2</td>\n",
       "      <td>763</td>\n",
       "      <td>0</td>\n",
       "      <td>R</td>\n",
       "      <td>63</td>\n",
       "      <td>13</td>\n",
       "      <td>2.0</td>\n",
       "      <td>30.0</td>\n",
       "      <td>0.0</td>\n",
       "      <td>1327</td>\n",
       "      <td>0.796</td>\n",
       "      <td>1.323</td>\n",
       "    </tr>\n",
       "    <tr>\n",
       "      <th>372</th>\n",
       "      <td>OAS2_0186</td>\n",
       "      <td>OAS2_0186_MR3</td>\n",
       "      <td>1</td>\n",
       "      <td>3</td>\n",
       "      <td>1608</td>\n",
       "      <td>0</td>\n",
       "      <td>R</td>\n",
       "      <td>65</td>\n",
       "      <td>13</td>\n",
       "      <td>2.0</td>\n",
       "      <td>30.0</td>\n",
       "      <td>0.0</td>\n",
       "      <td>1333</td>\n",
       "      <td>0.801</td>\n",
       "      <td>1.317</td>\n",
       "    </tr>\n",
       "  </tbody>\n",
       "</table>\n",
       "<p>373 rows × 15 columns</p>\n",
       "</div>"
      ],
      "text/plain": [
       "    Subject ID         MRI ID  Group  Visit  MR Delay  M/F Hand  Age  EDUC  \\\n",
       "0    OAS2_0001  OAS2_0001_MR1      1      1         0    1    R   87    14   \n",
       "1    OAS2_0001  OAS2_0001_MR2      1      2       457    1    R   88    14   \n",
       "2    OAS2_0002  OAS2_0002_MR1      0      1         0    1    R   75    12   \n",
       "3    OAS2_0002  OAS2_0002_MR2      0      2       560    1    R   76    12   \n",
       "4    OAS2_0002  OAS2_0002_MR3      0      3      1895    1    R   80    12   \n",
       "..         ...            ...    ...    ...       ...  ...  ...  ...   ...   \n",
       "368  OAS2_0185  OAS2_0185_MR2      0      2       842    1    R   82    16   \n",
       "369  OAS2_0185  OAS2_0185_MR3      0      3      2297    1    R   86    16   \n",
       "370  OAS2_0186  OAS2_0186_MR1      1      1         0    0    R   61    13   \n",
       "371  OAS2_0186  OAS2_0186_MR2      1      2       763    0    R   63    13   \n",
       "372  OAS2_0186  OAS2_0186_MR3      1      3      1608    0    R   65    13   \n",
       "\n",
       "     SES  MMSE  CDR  eTIV   nWBV    ASF  \n",
       "0    2.0  27.0  0.0  1987  0.696  0.883  \n",
       "1    2.0  30.0  0.0  2004  0.681  0.876  \n",
       "2    NaN  23.0  0.5  1678  0.736  1.046  \n",
       "3    NaN  28.0  0.5  1738  0.713  1.010  \n",
       "4    NaN  22.0  0.5  1698  0.701  1.034  \n",
       "..   ...   ...  ...   ...    ...    ...  \n",
       "368  1.0  28.0  0.5  1693  0.694  1.037  \n",
       "369  1.0  26.0  0.5  1688  0.675  1.040  \n",
       "370  2.0  30.0  0.0  1319  0.801  1.331  \n",
       "371  2.0  30.0  0.0  1327  0.796  1.323  \n",
       "372  2.0  30.0  0.0  1333  0.801  1.317  \n",
       "\n",
       "[373 rows x 15 columns]"
      ]
     },
     "execution_count": 25,
     "metadata": {},
     "output_type": "execute_result"
    }
   ],
   "source": [
    "alz_data"
   ]
  },
  {
   "cell_type": "code",
   "execution_count": null,
   "id": "9fbd47db",
   "metadata": {},
   "outputs": [],
   "source": []
  },
  {
   "cell_type": "markdown",
   "id": "c89d3dfd",
   "metadata": {},
   "source": [
    "# Train Test Split"
   ]
  },
  {
   "cell_type": "code",
   "execution_count": 27,
   "id": "f133cea0",
   "metadata": {},
   "outputs": [],
   "source": [
    "from sklearn.model_selection import train_test_split\n"
   ]
  },
  {
   "cell_type": "code",
   "execution_count": 31,
   "id": "ce545239",
   "metadata": {},
   "outputs": [],
   "source": [
    "feature_columns = ['M/F', 'Age', 'EDUC', 'CDR', 'eTIV', 'nWBV', 'ASF']\n",
    "predicted_label = ['Group']"
   ]
  },
  {
   "cell_type": "code",
   "execution_count": 32,
   "id": "74314183",
   "metadata": {},
   "outputs": [],
   "source": [
    "x = alz_data[feature_columns].values\n",
    "y = alz_data[predicted_label].values\n",
    "\n",
    "x_train, x_test, y_train, y_test = train_test_split(x, y, test_size = 0.20, random_state=0)"
   ]
  },
  {
   "cell_type": "code",
   "execution_count": null,
   "id": "9b9dd024",
   "metadata": {},
   "outputs": [],
   "source": [
    "# Fitting Multiple Linear Regression to the Training set"
   ]
  },
  {
   "cell_type": "markdown",
   "id": "8facbb4f",
   "metadata": {},
   "source": [
    "# Multiple Regression"
   ]
  },
  {
   "cell_type": "code",
   "execution_count": 33,
   "id": "ef11aaaf",
   "metadata": {},
   "outputs": [
    {
     "data": {
      "text/plain": [
       "LinearRegression()"
      ]
     },
     "execution_count": 33,
     "metadata": {},
     "output_type": "execute_result"
    }
   ],
   "source": [
    "from sklearn.linear_model import LinearRegression\n",
    "regressor = LinearRegression()\n",
    "regressor.fit(x_train, y_train)"
   ]
  },
  {
   "cell_type": "code",
   "execution_count": null,
   "id": "aa93b41c",
   "metadata": {},
   "outputs": [],
   "source": [
    "# Predicting the Test set results"
   ]
  },
  {
   "cell_type": "code",
   "execution_count": 34,
   "id": "8babee38",
   "metadata": {},
   "outputs": [],
   "source": [
    "y_pred = regressor.predict(x_test)"
   ]
  },
  {
   "cell_type": "code",
   "execution_count": 35,
   "id": "8fdc8762",
   "metadata": {},
   "outputs": [
    {
     "data": {
      "text/plain": [
       "array([[ 0.39314719],\n",
       "       [ 0.84336204],\n",
       "       [ 1.00240107],\n",
       "       [ 0.47430776],\n",
       "       [ 0.86444953],\n",
       "       [ 0.39230526],\n",
       "       [ 1.18766209],\n",
       "       [ 0.68330399],\n",
       "       [ 0.23996248],\n",
       "       [ 0.68279745],\n",
       "       [ 0.42551058],\n",
       "       [ 1.27005854],\n",
       "       [ 1.02182079],\n",
       "       [ 0.62732717],\n",
       "       [-0.2180873 ],\n",
       "       [ 0.51084974],\n",
       "       [ 0.72083447],\n",
       "       [ 0.87440743],\n",
       "       [ 1.08134101],\n",
       "       [ 1.12297998],\n",
       "       [ 1.07694218],\n",
       "       [ 0.62575965],\n",
       "       [-0.06358589],\n",
       "       [ 1.17609209],\n",
       "       [ 0.42015852],\n",
       "       [-0.12677727],\n",
       "       [-0.18596582],\n",
       "       [ 0.73365355],\n",
       "       [ 1.25201189],\n",
       "       [ 0.78344926],\n",
       "       [ 0.31635956],\n",
       "       [ 1.04972229],\n",
       "       [ 1.18787396],\n",
       "       [ 0.75053801],\n",
       "       [ 0.902228  ],\n",
       "       [ 1.36088889],\n",
       "       [ 0.44058197],\n",
       "       [-0.01484217],\n",
       "       [ 1.17935792],\n",
       "       [-0.04511642],\n",
       "       [ 0.47181557],\n",
       "       [ 1.10805579],\n",
       "       [ 0.31806088],\n",
       "       [ 0.58421377],\n",
       "       [ 1.11452206],\n",
       "       [ 1.23170191],\n",
       "       [-0.24544874],\n",
       "       [ 1.18775057],\n",
       "       [ 0.82292066],\n",
       "       [ 0.95303401],\n",
       "       [ 0.09279312],\n",
       "       [ 0.49991239],\n",
       "       [ 0.38976395],\n",
       "       [ 0.28753137],\n",
       "       [ 1.15037618],\n",
       "       [ 0.32473751],\n",
       "       [ 1.19345153],\n",
       "       [ 0.84739394],\n",
       "       [ 1.21322331],\n",
       "       [-0.23931545],\n",
       "       [ 1.07021315],\n",
       "       [ 0.64375576],\n",
       "       [ 1.16480584],\n",
       "       [ 0.40887906],\n",
       "       [ 1.16665868],\n",
       "       [ 1.09508585],\n",
       "       [ 1.20438487],\n",
       "       [ 0.39240617],\n",
       "       [ 0.16154559],\n",
       "       [ 0.90180597],\n",
       "       [ 1.11283979],\n",
       "       [ 0.36533664],\n",
       "       [ 0.9089503 ],\n",
       "       [-0.07339945],\n",
       "       [ 0.14397205]])"
      ]
     },
     "execution_count": 35,
     "metadata": {},
     "output_type": "execute_result"
    }
   ],
   "source": [
    "y_pred"
   ]
  },
  {
   "cell_type": "code",
   "execution_count": null,
   "id": "d622d1b8",
   "metadata": {},
   "outputs": [],
   "source": [
    "# Calculating the Coefficients, bearing in mind. y = m*x + c for linear graph"
   ]
  },
  {
   "cell_type": "code",
   "execution_count": 36,
   "id": "238b7eeb",
   "metadata": {},
   "outputs": [
    {
     "name": "stdout",
     "output_type": "stream",
     "text": [
      "[[-1.29310658e-01  1.28933436e-02  4.20742349e-02 -9.79251638e-01\n",
      "  -1.79381959e-03  1.08654987e+00 -2.28202209e+00]]\n"
     ]
    }
   ],
   "source": [
    "print(regressor.coef_)"
   ]
  },
  {
   "cell_type": "code",
   "execution_count": null,
   "id": "56b40649",
   "metadata": {},
   "outputs": [],
   "source": [
    "# Calculating the intercept"
   ]
  },
  {
   "cell_type": "code",
   "execution_count": 37,
   "id": "17d66be5",
   "metadata": {},
   "outputs": [
    {
     "name": "stdout",
     "output_type": "stream",
     "text": [
      "[4.04303175]\n"
     ]
    }
   ],
   "source": [
    "print(regressor.intercept_)"
   ]
  },
  {
   "cell_type": "code",
   "execution_count": 38,
   "id": "897260e7",
   "metadata": {},
   "outputs": [
    {
     "data": {
      "text/plain": [
       "0.4020904194450562"
      ]
     },
     "execution_count": 38,
     "metadata": {},
     "output_type": "execute_result"
    }
   ],
   "source": [
    "# Calculating the R squared value. R squared value a statistical measure in a regression model that determines the proportion of variance in the dependent variable that can be explained by the independent variable. \n",
    "#In other words, r-squared shows how well the data fit the regression model (the goodness of fit)\n",
    "\n",
    "from sklearn.metrics import r2_score\n",
    "r2_score(y_test, y_pred)\n",
    "\n",
    "#y_test is the actual value, the one given while y_pred is the ones marked out for prediction"
   ]
  },
  {
   "cell_type": "code",
   "execution_count": null,
   "id": "cf453510",
   "metadata": {},
   "outputs": [],
   "source": [
    "#A measure r_2 below 0.4 would show a low correlation."
   ]
  },
  {
   "cell_type": "markdown",
   "id": "79c25f51",
   "metadata": {},
   "source": [
    "# Random Forest Classifier"
   ]
  },
  {
   "cell_type": "code",
   "execution_count": 39,
   "id": "bea28e8f",
   "metadata": {},
   "outputs": [],
   "source": [
    "from sklearn.ensemble import RandomForestClassifier"
   ]
  },
  {
   "cell_type": "code",
   "execution_count": 40,
   "id": "4e2caee3",
   "metadata": {},
   "outputs": [
    {
     "data": {
      "text/plain": [
       "RandomForestClassifier(random_state=10)"
      ]
     },
     "execution_count": 40,
     "metadata": {},
     "output_type": "execute_result"
    }
   ],
   "source": [
    "random_forest_model = RandomForestClassifier(random_state=10)\n",
    "\n",
    "random_forest_model.fit(x_train, y_train.ravel())"
   ]
  },
  {
   "cell_type": "code",
   "execution_count": 47,
   "id": "3882e6ff",
   "metadata": {},
   "outputs": [],
   "source": [
    "# Make predictions for the test set\n",
    "y_pred_test = random_forest_model.predict(x_test)"
   ]
  },
  {
   "cell_type": "code",
   "execution_count": 53,
   "id": "bbd665f7",
   "metadata": {},
   "outputs": [
    {
     "data": {
      "text/plain": [
       "0.9066666666666666"
      ]
     },
     "execution_count": 53,
     "metadata": {},
     "output_type": "execute_result"
    }
   ],
   "source": [
    "from sklearn.metrics import accuracy_score, confusion_matrix, classification_report\n",
    "\n",
    "\n",
    "accuracy_score(y_test, y_pred_test)   "
   ]
  },
  {
   "cell_type": "code",
   "execution_count": null,
   "id": "3477b6d5",
   "metadata": {},
   "outputs": [],
   "source": [
    " #This model has an accuracy score of 90% on the test data. That seems pretty impressive"
   ]
  },
  {
   "cell_type": "code",
   "execution_count": null,
   "id": "eb681a8f",
   "metadata": {},
   "outputs": [],
   "source": [
    "#Since Accuracy is not a great measure of classifier performance,\n",
    "#We need to use confusion matrix to understand how well the model really performed"
   ]
  },
  {
   "cell_type": "code",
   "execution_count": null,
   "id": "4f56c2da",
   "metadata": {},
   "outputs": [],
   "source": [
    "# Confusion Matrics"
   ]
  },
  {
   "cell_type": "code",
   "execution_count": null,
   "id": "4c618f6b",
   "metadata": {},
   "outputs": [],
   "source": [
    "\n",
    "from sklearn.metrics import confusion_matrix, classification_report"
   ]
  },
  {
   "cell_type": "code",
   "execution_count": 54,
   "id": "afe1c2bb",
   "metadata": {},
   "outputs": [
    {
     "data": {
      "text/plain": [
       "array([[30,  0,  0],\n",
       "       [ 1, 36,  1],\n",
       "       [ 3,  2,  2]])"
      ]
     },
     "execution_count": 54,
     "metadata": {},
     "output_type": "execute_result"
    }
   ],
   "source": [
    "# View confusion matrix for test data and predictions\n",
    "confusion_matrix(y_test, y_pred_test)"
   ]
  },
  {
   "cell_type": "code",
   "execution_count": 55,
   "id": "3fed109b",
   "metadata": {},
   "outputs": [],
   "source": [
    "# Get and reshape confusion matrix data\n",
    "matrix = confusion_matrix(y_test, y_pred_test)\n",
    "matrix = matrix.astype('float') / matrix.sum(axis=1)[:, np.newaxis]"
   ]
  },
  {
   "cell_type": "code",
   "execution_count": 56,
   "id": "a31ab014",
   "metadata": {},
   "outputs": [
    {
     "data": {
      "text/plain": [
       "<AxesSubplot:>"
      ]
     },
     "execution_count": 56,
     "metadata": {},
     "output_type": "execute_result"
    },
    {
     "data": {
      "image/png": "[encoded data removed]",
      "text/plain": [
       "<Figure size 1152x504 with 2 Axes>"
      ]
     },
     "metadata": {
      "needs_background": "light"
     },
     "output_type": "display_data"
    }
   ],
   "source": [
    "# Build the plot\n",
    "plt.figure(figsize=(16,7))\n",
    "sns.set(font_scale=1.4)\n",
    "sns.heatmap(matrix, annot=True, annot_kws={'size':10},\n",
    "            cmap=plt.cm.Greens, linewidths=0.2)"
   ]
  },
  {
   "cell_type": "code",
   "execution_count": 58,
   "id": "bdd6a37b",
   "metadata": {},
   "outputs": [
    {
     "name": "stdout",
     "output_type": "stream",
     "text": [
      "              precision    recall  f1-score   support\n",
      "\n",
      "           0       0.88      1.00      0.94        30\n",
      "           1       0.95      0.95      0.95        38\n",
      "           2       0.67      0.29      0.40         7\n",
      "\n",
      "    accuracy                           0.91        75\n",
      "   macro avg       0.83      0.74      0.76        75\n",
      "weighted avg       0.90      0.91      0.89        75\n",
      "\n"
     ]
    }
   ],
   "source": [
    "# Classification report for test data and predictions\n",
    "print(classification_report(y_test, y_pred_test))"
   ]
  },
  {
   "cell_type": "code",
   "execution_count": null,
   "id": "cad3b669",
   "metadata": {},
   "outputs": [],
   "source": [
    "#F1-score is a measure of a model's accuracy on a dataset.\n",
    "#recall is the ratio of the relevant results returned by the search engine to the total number of the relevant results that could have been returned.\n",
    "#Accuracy is calculated as the number of all correct predictions divided by the total number of the dataset.\n",
    "\n",
    "#from our prediction, we have an accuracy of 0.91 or 91%"
   ]
  }
 ],
 "metadata": {
  "kernelspec": {
   "display_name": "Python 3 (ipykernel)",
   "language": "python",
   "name": "python3"
  },
  "language_info": {
   "codemirror_mode": {
    "name": "ipython",
    "version": 3
   },
   "file_extension": ".py",
   "mimetype": "text/x-python",
   "name": "python",
   "nbconvert_exporter": "python",
   "pygments_lexer": "ipython3",
   "version": "3.9.12"
  }
 },
 "nbformat": 4,
 "nbformat_minor": 5
}
